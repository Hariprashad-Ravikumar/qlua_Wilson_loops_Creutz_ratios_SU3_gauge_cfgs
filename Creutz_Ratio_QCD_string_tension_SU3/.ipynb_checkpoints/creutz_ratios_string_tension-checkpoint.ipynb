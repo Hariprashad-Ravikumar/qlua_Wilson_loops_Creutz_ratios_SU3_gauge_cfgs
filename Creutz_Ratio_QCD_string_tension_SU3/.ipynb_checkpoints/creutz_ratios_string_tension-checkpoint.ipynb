{
 "cells": [
  {
   "cell_type": "code",
   "execution_count": 2,
   "id": "8acf32a9-fc70-4ef0-b859-c5952104b6b9",
   "metadata": {},
   "outputs": [
    {
     "name": "stdout",
     "output_type": "stream",
     "text": [
      "r= 2; t= 2 $\\chi$= 777.5611271\n"
     ]
    },
    {
     "ename": "KeyboardInterrupt",
     "evalue": "",
     "output_type": "error",
     "traceback": [
      "\u001b[0;31m---------------------------------------------------------------------------\u001b[0m",
      "\u001b[0;31mKeyboardInterrupt\u001b[0m                         Traceback (most recent call last)",
      "Cell \u001b[0;32mIn[2], line 33\u001b[0m\n\u001b[1;32m     29\u001b[0m     \u001b[38;5;28;01mreturn\u001b[39;00m np\u001b[38;5;241m.\u001b[39mmean(list_Creutz_ratio)\n\u001b[1;32m     32\u001b[0m \u001b[38;5;28;01mfor\u001b[39;00m r \u001b[38;5;129;01min\u001b[39;00m \u001b[38;5;28mrange\u001b[39m(\u001b[38;5;241m2\u001b[39m, \u001b[38;5;241m20\u001b[39m):\n\u001b[0;32m---> 33\u001b[0m     \u001b[38;5;28mprint\u001b[39m(\u001b[38;5;124m\"\u001b[39m\u001b[38;5;124mr= \u001b[39m\u001b[38;5;132;01m%d\u001b[39;00m\u001b[38;5;124m; t= \u001b[39m\u001b[38;5;132;01m%d\u001b[39;00m\u001b[38;5;124m $\u001b[39m\u001b[38;5;124m\\\u001b[39m\u001b[38;5;124mchi$= \u001b[39m\u001b[38;5;132;01m%.7f\u001b[39;00m\u001b[38;5;124m\"\u001b[39m\u001b[38;5;241m%\u001b[39m( r, r, (np\u001b[38;5;241m.\u001b[39msqrt((\u001b[43mCreutz_ratio\u001b[49m\u001b[43m(\u001b[49m\u001b[43mr\u001b[49m\u001b[43m,\u001b[49m\u001b[43mr\u001b[49m\u001b[43m)\u001b[49m\u001b[38;5;241m*\u001b[39m\u001b[38;5;241m197\u001b[39m\u001b[38;5;241m*\u001b[39m\u001b[38;5;241m197\u001b[39m)\u001b[38;5;241m/\u001b[39m(a\u001b[38;5;241m*\u001b[39ma)))))\n",
      "Cell \u001b[0;32mIn[2], line 26\u001b[0m, in \u001b[0;36mCreutz_ratio\u001b[0;34m(r, t)\u001b[0m\n\u001b[1;32m     24\u001b[0m list_Creutz_ratio \u001b[38;5;241m=\u001b[39m []\n\u001b[1;32m     25\u001b[0m \u001b[38;5;28;01mfor\u001b[39;00m cfgs \u001b[38;5;129;01min\u001b[39;00m \u001b[38;5;28mrange\u001b[39m(no_cfgs):\n\u001b[0;32m---> 26\u001b[0m     chi_r_t \u001b[38;5;241m=\u001b[39m \u001b[38;5;241m-\u001b[39m np\u001b[38;5;241m.\u001b[39mlog(( (W(r,t)[cfgs])\u001b[38;5;241m*\u001b[39m(W(r\u001b[38;5;241m-\u001b[39m\u001b[38;5;241m1\u001b[39m,t\u001b[38;5;241m-\u001b[39m\u001b[38;5;241m1\u001b[39m)[cfgs]) )\u001b[38;5;241m/\u001b[39m( (\u001b[43mW\u001b[49m\u001b[43m(\u001b[49m\u001b[43mr\u001b[49m\u001b[43m,\u001b[49m\u001b[43mt\u001b[49m\u001b[38;5;241;43m-\u001b[39;49m\u001b[38;5;241;43m1\u001b[39;49m\u001b[43m)\u001b[49m[cfgs])\u001b[38;5;241m*\u001b[39m(W(r\u001b[38;5;241m-\u001b[39m\u001b[38;5;241m1\u001b[39m,t)[cfgs]) ))\n\u001b[1;32m     27\u001b[0m     \u001b[38;5;66;03m#print(np.sqrt((chi_r_t*197*197)/(a*a)))\u001b[39;00m\n\u001b[1;32m     28\u001b[0m     list_Creutz_ratio\u001b[38;5;241m.\u001b[39mappend(chi_r_t)\n",
      "Cell \u001b[0;32mIn[2], line 19\u001b[0m, in \u001b[0;36mW\u001b[0;34m(r, t)\u001b[0m\n\u001b[1;32m     17\u001b[0m             path_to_WilsonLoops \u001b[38;5;241m=\u001b[39m \u001b[38;5;124mf\u001b[39m\u001b[38;5;124m\"\u001b[39m\u001b[38;5;124m/Wilson_loops/wilson_\u001b[39m\u001b[38;5;132;01m{\u001b[39;00mr\u001b[38;5;132;01m}\u001b[39;00m\u001b[38;5;124m_x_\u001b[39m\u001b[38;5;132;01m{\u001b[39;00mt\u001b[38;5;132;01m}\u001b[39;00m\u001b[38;5;124m/i_\u001b[39m\u001b[38;5;132;01m{\u001b[39;00mi_axis\u001b[38;5;132;01m}\u001b[39;00m\u001b[38;5;124m_j_3\u001b[39m\u001b[38;5;124m\"\u001b[39m\n\u001b[1;32m     18\u001b[0m             wilsonloop \u001b[38;5;241m=\u001b[39m h5_file[path_to_WilsonLoops]\n\u001b[0;32m---> 19\u001b[0m             avg_wilsonloop_list_plane\u001b[38;5;241m.\u001b[39mappend(\u001b[43mwilsonloop\u001b[49m\u001b[43m[\u001b[49m\u001b[43m(\u001b[49m\u001b[43m)\u001b[49m\u001b[43m]\u001b[49m)\n\u001b[1;32m     20\u001b[0m         list_r_t_avg_wilsonloop_all_cfgs\u001b[38;5;241m.\u001b[39mappend(np\u001b[38;5;241m.\u001b[39mmean(avg_wilsonloop_list_plane)) \n\u001b[1;32m     21\u001b[0m \u001b[38;5;28;01mreturn\u001b[39;00m list_r_t_avg_wilsonloop_all_cfgs\n",
      "File \u001b[0;32mh5py/_objects.pyx:54\u001b[0m, in \u001b[0;36mh5py._objects.with_phil.wrapper\u001b[0;34m()\u001b[0m\n",
      "File \u001b[0;32mh5py/_objects.pyx:55\u001b[0m, in \u001b[0;36mh5py._objects.with_phil.wrapper\u001b[0;34m()\u001b[0m\n",
      "File \u001b[0;32m/global/common/software/nersc/pe/conda-envs/23.9.0/python-3.11/nersc-python/lib/python3.11/site-packages/h5py/_hl/dataset.py:817\u001b[0m, in \u001b[0;36mDataset.__getitem__\u001b[0;34m(self, args, new_dtype)\u001b[0m\n\u001b[1;32m    815\u001b[0m \u001b[38;5;28;01mif\u001b[39;00m \u001b[38;5;28mself\u001b[39m\u001b[38;5;241m.\u001b[39mshape \u001b[38;5;241m==\u001b[39m ():\n\u001b[1;32m    816\u001b[0m     fspace \u001b[38;5;241m=\u001b[39m \u001b[38;5;28mself\u001b[39m\u001b[38;5;241m.\u001b[39mid\u001b[38;5;241m.\u001b[39mget_space()\n\u001b[0;32m--> 817\u001b[0m     selection \u001b[38;5;241m=\u001b[39m \u001b[43msel2\u001b[49m\u001b[38;5;241;43m.\u001b[39;49m\u001b[43mselect_read\u001b[49m\u001b[43m(\u001b[49m\u001b[43mfspace\u001b[49m\u001b[43m,\u001b[49m\u001b[43m \u001b[49m\u001b[43margs\u001b[49m\u001b[43m)\u001b[49m\n\u001b[1;32m    818\u001b[0m     \u001b[38;5;28;01mif\u001b[39;00m selection\u001b[38;5;241m.\u001b[39mmshape \u001b[38;5;129;01mis\u001b[39;00m \u001b[38;5;28;01mNone\u001b[39;00m:\n\u001b[1;32m    819\u001b[0m         arr \u001b[38;5;241m=\u001b[39m numpy\u001b[38;5;241m.\u001b[39mzeros((), dtype\u001b[38;5;241m=\u001b[39mnew_dtype)\n",
      "File \u001b[0;32m/global/common/software/nersc/pe/conda-envs/23.9.0/python-3.11/nersc-python/lib/python3.11/site-packages/h5py/_hl/selections2.py:101\u001b[0m, in \u001b[0;36mselect_read\u001b[0;34m(fspace, args)\u001b[0m\n\u001b[1;32m     96\u001b[0m \u001b[38;5;250m\u001b[39m\u001b[38;5;124;03m\"\"\" Top-level dispatch function for reading.\u001b[39;00m\n\u001b[1;32m     97\u001b[0m \n\u001b[1;32m     98\u001b[0m \u001b[38;5;124;03mAt the moment, only supports reading from scalar datasets.\u001b[39;00m\n\u001b[1;32m     99\u001b[0m \u001b[38;5;124;03m\"\"\"\u001b[39;00m\n\u001b[1;32m    100\u001b[0m \u001b[38;5;28;01mif\u001b[39;00m fspace\u001b[38;5;241m.\u001b[39mshape \u001b[38;5;241m==\u001b[39m ():\n\u001b[0;32m--> 101\u001b[0m     \u001b[38;5;28;01mreturn\u001b[39;00m \u001b[43mScalarReadSelection\u001b[49m\u001b[43m(\u001b[49m\u001b[43mfspace\u001b[49m\u001b[43m,\u001b[49m\u001b[43m \u001b[49m\u001b[43margs\u001b[49m\u001b[43m)\u001b[49m\n\u001b[1;32m    103\u001b[0m \u001b[38;5;28;01mraise\u001b[39;00m \u001b[38;5;167;01mNotImplementedError\u001b[39;00m()\n",
      "File \u001b[0;32m/global/common/software/nersc/pe/conda-envs/23.9.0/python-3.11/nersc-python/lib/python3.11/site-packages/h5py/_hl/selections2.py:80\u001b[0m, in \u001b[0;36mScalarReadSelection.__init__\u001b[0;34m(self, fspace, args)\u001b[0m\n\u001b[1;32m     74\u001b[0m \u001b[38;5;28;01mclass\u001b[39;00m \u001b[38;5;21;01mScalarReadSelection\u001b[39;00m:\n\u001b[1;32m     76\u001b[0m \u001b[38;5;250m    \u001b[39m\u001b[38;5;124;03m\"\"\"\u001b[39;00m\n\u001b[1;32m     77\u001b[0m \u001b[38;5;124;03m        Implements slicing for scalar datasets.\u001b[39;00m\n\u001b[1;32m     78\u001b[0m \u001b[38;5;124;03m    \"\"\"\u001b[39;00m\n\u001b[0;32m---> 80\u001b[0m     \u001b[38;5;28;01mdef\u001b[39;00m \u001b[38;5;21m__init__\u001b[39m(\u001b[38;5;28mself\u001b[39m, fspace, args):\n\u001b[1;32m     81\u001b[0m         \u001b[38;5;28;01mif\u001b[39;00m args \u001b[38;5;241m==\u001b[39m ():\n\u001b[1;32m     82\u001b[0m             \u001b[38;5;28mself\u001b[39m\u001b[38;5;241m.\u001b[39mmshape \u001b[38;5;241m=\u001b[39m \u001b[38;5;28;01mNone\u001b[39;00m\n",
      "\u001b[0;31mKeyboardInterrupt\u001b[0m: "
     ]
    }
   ],
   "source": [
    "import h5py\n",
    "import numpy as np\n",
    "import matplotlib.pyplot as plt\n",
    "from scipy.optimize import curve_fit\n",
    "\n",
    "no_cfgs = 77\n",
    "#lattice size a\n",
    "a = 0.114\n",
    "\n",
    "def W(r,t): #Wilson loop W for given r and t\n",
    "    list_r_t_avg_wilsonloop_all_cfgs = [] #for given r and t\n",
    "    for cfgs in range(1776, 2081, 4):\n",
    "        file_path = f\"/global/homes/h/hari_8/QLUA_tutorials/wilson_loops_from_configs/wilson_loops_function_cfg_{cfgs}_upto_20x20_creutz_ratio.h5\"\n",
    "        with h5py.File(file_path, \"r\") as h5_file:\n",
    "            avg_wilsonloop_list_plane = []\n",
    "            for i_axis in range(0,3):\n",
    "                path_to_WilsonLoops = f\"/Wilson_loops/wilson_{r}_x_{t}/i_{i_axis}_j_3\"\n",
    "                wilsonloop = h5_file[path_to_WilsonLoops]\n",
    "                avg_wilsonloop_list_plane.append(wilsonloop[()])\n",
    "            list_r_t_avg_wilsonloop_all_cfgs.append(np.mean(avg_wilsonloop_list_plane)) \n",
    "    return list_r_t_avg_wilsonloop_all_cfgs\n",
    "\n",
    "def Creutz_ratio(r, t):\n",
    "    list_Creutz_ratio = []\n",
    "    for cfgs in range(no_cfgs):\n",
    "        chi_r_t = - np.log(( (W(r,t)[cfgs])*(W(r-1,t-1)[cfgs]) )/( (W(r,t-1)[cfgs])*(W(r-1,t)[cfgs]) ))\n",
    "        #print(np.sqrt((chi_r_t*197*197)/(a*a)))\n",
    "        list_Creutz_ratio.append(chi_r_t)\n",
    "    return np.mean(list_Creutz_ratio)\n",
    "\n",
    "\n",
    "for r in range(2, 20):\n",
    "    print(\"r= %d; t= %d $\\chi$= %.7f\"%( r, r, (np.sqrt((Creutz_ratio(r,r)*197*197)/(a*a)))))"
   ]
  },
  {
   "cell_type": "code",
   "execution_count": null,
   "id": "c42268d3-1c84-442a-af5a-7f69f4a93d35",
   "metadata": {},
   "outputs": [],
   "source": []
  }
 ],
 "metadata": {
  "kernelspec": {
   "display_name": "NERSC Python",
   "language": "python",
   "name": "python3"
  },
  "language_info": {
   "codemirror_mode": {
    "name": "ipython",
    "version": 3
   },
   "file_extension": ".py",
   "mimetype": "text/x-python",
   "name": "python",
   "nbconvert_exporter": "python",
   "pygments_lexer": "ipython3",
   "version": "3.11.5"
  }
 },
 "nbformat": 4,
 "nbformat_minor": 5
}
