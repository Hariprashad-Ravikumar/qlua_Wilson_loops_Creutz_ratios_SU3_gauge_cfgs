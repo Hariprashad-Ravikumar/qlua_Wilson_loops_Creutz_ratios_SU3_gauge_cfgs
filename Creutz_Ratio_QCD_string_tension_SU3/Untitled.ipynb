{
 "cells": [
  {
   "cell_type": "code",
   "execution_count": null,
   "id": "d792c1da-004c-4bb8-999d-16a9bfa82e9b",
   "metadata": {},
   "outputs": [],
   "source": [
    "import h5py\n",
    "import numpy as np\n",
    "\n",
    "\n",
    "for cfgs in range(1700, 1901, 4):\n",
    "    file_path = f\"/global/homes/h/hari_8/QLUA_tutorials/wilson_loops_from_configs/wilson_loops_23_32_{cfgs}_yz_plane.h5\"\n",
    "        "
   ]
  }
 ],
 "metadata": {
  "kernelspec": {
   "display_name": "NERSC Python",
   "language": "python",
   "name": "python3"
  },
  "language_info": {
   "codemirror_mode": {
    "name": "ipython",
    "version": 3
   },
   "file_extension": ".py",
   "mimetype": "text/x-python",
   "name": "python",
   "nbconvert_exporter": "python",
   "pygments_lexer": "ipython3",
   "version": "3.9.7"
  }
 },
 "nbformat": 4,
 "nbformat_minor": 5
}
